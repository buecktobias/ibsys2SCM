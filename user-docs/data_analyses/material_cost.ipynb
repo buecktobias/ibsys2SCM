{
 "cells": [
  {
   "cell_type": "code",
   "id": "a0dfef897b499084",
   "metadata": {
    "jupyter": {
     "is_executing": true
    }
   },
   "source": [
    "import pandas as pd\n",
    "\n",
    "from matplotlib import pyplot as plt\n",
    "\n",
    "df = pd.read_csv('material_costs.csv', delimiter=',', decimal=\",\", thousands=\".\", encoding='utf-8')\n",
    "df.head(40)\n"
   ],
   "outputs": [],
   "execution_count": null
  },
  {
   "metadata": {
    "collapsed": true
   },
   "cell_type": "code",
   "source": [
    "df = df.iloc[1:]\n",
    "# Artikelnummer: extract numeric part and symbol\n",
    "df['article_id'] = df['Artikelnummer'].astype(str).str.extract(r'([\\d\\.]+)')[0]\n",
    "df['article_id'] = df['article_id'].str.replace('.', '', regex=False)\n",
    "df['item_type'] = df['Artikelnummer'].astype(str).str.extract(r'([PEK])')[0]\n",
    "\n",
    "# Remove Bezeichnung column\n",
    "df.drop(columns=['Bezeichnung'], inplace=True, errors='ignore')\n",
    "\n",
    "# Verwendung: split into used_for_child, used_for_men, used_for_women\n",
    "df['used_for_child'] = df['Verwendung'].apply(lambda x: 1 if 'K' in str(x) else 0)\n",
    "df['used_for_men'] = df['Verwendung'].apply(lambda x: 1 if 'H' in str(x) else 0)\n",
    "df['used_for_women'] = df['Verwendung'].apply(lambda x: 1 if 'D' in str(x) else 0)\n",
    "\n",
    "# Rename and reformat columns\n",
    "# Startmenge -> start_quantity, remove dots (thousands separator)\n",
    "df['start_quantity'] = df['Startmenge']\n",
    "\n",
    "# Startpreis [ € ] -> price_per_part, remove thousand markers and convert comma to dot\n",
    "df['price_per_part'] = df['Startpreis[€]']\n",
    "\n",
    "# Lieferkosten [ € ] -> order_price\n",
    "df['order_price'] = df['Lieferkosten[€]']\n",
    "\n",
    "# Lieferzeit [Perioden] -> order_duration\n",
    "df['order_duration'] = df['Lieferzeit[Perioden]']\n",
    "\n",
    "# rename Lieferzeitabweichung to order_86_deviation and convert to english number format\n",
    "df['order_86_deviation'] = df['Lieferzeitabweichung']\n",
    "\n",
    "# calculate order_standard_deviation and drop the original order_86_deviation column\n",
    "df['order_standard_deviation'] = df['order_86_deviation'] / 1.48\n",
    "df.drop(columns=['order_86_deviation'], inplace=True)\n",
    "# Lieferzeitabweichung -> order_86_deviation\n",
    "\n",
    "# Add discount_quantity and discount_amount for item_type K\n",
    "df['discount_quantity'] = df.apply(lambda row: row['start_quantity'] if row['item_type'] == 'K' else 0, axis=1)\n",
    "df['discount_amount'] = df.apply(lambda row: 0.1 if row['item_type'] == 'K' else 0, axis=1)\n",
    "cols = ['article_id', 'item_type', 'used_for_child', 'used_for_men', 'used_for_women',\n",
    "        'start_quantity', 'price_per_part', 'order_price', 'order_duration', 'order_standard_deviation',\n",
    "        'discount_quantity', 'discount_amount']\n",
    "df = df[cols]\n",
    "df.to_csv('material_costs_cleaned.csv', index=False, encoding='utf-8')\n"
   ],
   "id": "initial_id",
   "outputs": [],
   "execution_count": null
  },
  {
   "metadata": {},
   "cell_type": "code",
   "source": "df.describe()",
   "id": "8edee2e847cf3d12",
   "outputs": [],
   "execution_count": null
  },
  {
   "metadata": {
    "jupyter": {
     "is_executing": true
    }
   },
   "cell_type": "code",
   "source": "df.head()",
   "id": "1a241f7e37227356",
   "outputs": [],
   "execution_count": null
  },
  {
   "metadata": {},
   "cell_type": "code",
   "source": [
    "import seaborn as sns\n",
    "\n",
    "df = pd.read_csv('material_costs_cleaned_edited.csv', encoding='utf-8')\n",
    "sns.boxplot(y=df['order_duration'])\n",
    "plt.title('Boxplot of Values')\n",
    "plt.show()"
   ],
   "id": "f4a1d3edae33a262",
   "outputs": [],
   "execution_count": null
  },
  {
   "metadata": {},
   "cell_type": "code",
   "source": [
    "import matplotlib.pyplot as plt\n",
    "\n",
    "df_k = df[df['item_type'] == 'K']\n",
    "kids_cost = (df_k['price_per_part'] * df_k['quantity_used_for_child']).sum()\n",
    "men_cost = (df_k['price_per_part'] * df_k['quantity_used_for_men']).sum()\n",
    "women_cost = (df_k['price_per_part'] * df_k['quantity_used_for_women']).sum()\n",
    "\n",
    "categories = ['Kids Bikes', 'Men Bikes', 'Women Bikes']\n",
    "costs = [kids_cost, men_cost, women_cost]\n",
    "\n",
    "plt.figure()\n",
    "plt.bar(categories, costs)\n",
    "plt.ylabel('Material Cost')\n",
    "plt.title('Material Cost by Product Category')\n",
    "plt.show()\n"
   ],
   "id": "a528d65b1eb0e11d",
   "outputs": [],
   "execution_count": null
  },
  {
   "metadata": {},
   "cell_type": "code",
   "source": [
    "start_quantities = df['start_quantity']\n",
    "summed_usage = (df['quantity_used_for_child'] + df['quantity_used_for_men'] + df['quantity_used_for_women']) / 3\n",
    "\n",
    "plt.scatter(start_quantities, summed_usage)\n"
   ],
   "id": "3b07f6d74fab3ee1",
   "outputs": [],
   "execution_count": null
  },
  {
   "metadata": {},
   "cell_type": "code",
   "source": [
    "storage_time = start_quantities / summed_usage\n",
    "plt.boxplot(storage_time)\n",
    "plt.ylim(0, 2000)"
   ],
   "id": "57c7f4cc217a719a",
   "outputs": [],
   "execution_count": null
  },
  {
   "metadata": {},
   "cell_type": "code",
   "source": "df.head()",
   "id": "8a0a1450ac010848",
   "outputs": [],
   "execution_count": null
  },
  {
   "metadata": {},
   "cell_type": "code",
   "source": [
    "import matplotlib.pyplot as plt\n",
    "import numpy as np\n",
    "\n",
    "# Filter only K counter\n",
    "df_k = df[df['item_type'] == 'K'].copy()\n",
    "AVERAGE_PRODUCT_DEMAND = 300\n",
    "AVERAGE_PRODUCT_PRICE = 200\n",
    "# Calculate actual demand from the two columns that give the actual usage\n",
    "df_k['average_demand'] = (df['quantity_used_for_child'] + df['quantity_used_for_men'] + df[\n",
    "    'quantity_used_for_women']) / 3\n",
    "\n",
    "# Safety stock is based on variability in order and the actual demand.\n",
    "# We use a safety factor (z = 1.65) to determine the safety stock.\n",
    "z = 1.65\n",
    "df_k['safety_stock_factor'] = z * df_k['order_standard_deviation'] * df_k['average_demand']\n",
    "df_k['start_safety_stock_factor'] = df_k['start_quantity'] / df_k['average_demand'] / AVERAGE_PRODUCT_DEMAND\n",
    "# Storage cost depends on the safety stock level and the product value (price_per_part)\n",
    "df_k['storage_value_factor'] = df_k['safety_stock_factor'] * df_k['price_per_part']\n",
    "df_k['start_storage_value_factor'] = df_k['start_safety_stock_factor'] * df_k['price_per_part']\n",
    "# Visualize Safety Stock for each K item\n",
    "plt.figure(figsize=(12, 5))\n",
    "width = 0.35\n",
    "indices = np.arange(len(df_k))\n",
    "plt.bar(indices - width / 2, df_k['safety_stock_factor'], width, label='Safety Stock Factor')\n",
    "plt.bar(indices + width / 2, df_k['start_safety_stock_factor'], width, label='Start Safety Stock Factor', color='red')\n",
    "plt.xlabel('Article ID')\n",
    "plt.ylabel('Safety Stock per one product')\n",
    "plt.title('Start Quantities Safety Factor vs new calculated Safety Factor')\n",
    "plt.xticks(rotation=45)\n",
    "plt.tight_layout()\n",
    "plt.legend()\n",
    "plt.show()\n",
    "\n",
    "df_k['safety_store_per_revenue'] = df_k['storage_value_factor'] / AVERAGE_PRODUCT_PRICE\n",
    "\n",
    "plt.figure(figsize=(12, 5))\n",
    "width = 0.35\n",
    "indices = np.arange(len(df_k))\n",
    "plt.bar(indices - width / 2, df_k['safety_store_per_revenue'], width, label='Safety Stock Factor')\n",
    "plt.bar(indices + width / 2, df_k['start_storage_value_factor'] / AVERAGE_PRODUCT_PRICE, width,\n",
    "        label='Start Safety Stock Factor', color='red')\n",
    "plt.xlabel('Article ID')\n",
    "plt.ylabel('Storage Value per one product produced / revenue per product')\n",
    "plt.title('Safety Storage value as revenue factor (200) for K Items in regards to the summed demand')\n",
    "plt.xticks(rotation=45)\n",
    "plt.tight_layout()\n",
    "plt.show()\n"
   ],
   "id": "bb39513d9fabdf01",
   "outputs": [],
   "execution_count": null
  },
  {
   "metadata": {},
   "cell_type": "code",
   "source": "safety_stock_per_revenue = df_k['safety_store_per_revenue'].sum()",
   "id": "a08b28e7e2beef46",
   "outputs": [],
   "execution_count": null
  },
  {
   "metadata": {},
   "cell_type": "code",
   "source": [
    "AVERAGE_REVENUE = AVERAGE_PRODUCT_DEMAND * AVERAGE_PRODUCT_PRICE\n",
    "\n",
    "stock_value = safety_stock_per_revenue * AVERAGE_REVENUE\n",
    "\n",
    "stock_value"
   ],
   "id": "fc89c85d1b51c8d5",
   "outputs": [],
   "execution_count": null
  },
  {
   "metadata": {},
   "cell_type": "code",
   "source": [
    "import math\n",
    "\n",
    "\n",
    "def order_duration_safety_factor(order_duration):\n",
    "    return max(1.0, math.sqrt(order_duration))"
   ],
   "id": "616e8b3e7f6bdd0b",
   "outputs": [],
   "execution_count": null
  },
  {
   "metadata": {},
   "cell_type": "code",
   "source": [
    "df_k['adjusted_safety_stock_linear'] = df_k['safety_stock_factor'] * df_k['order_duration']\n",
    "df_k['adjusted_safety_stock_sqrt'] = df_k['safety_stock_factor'] * df_k['order_duration'].apply(\n",
    "    order_duration_safety_factor)\n",
    "\n",
    "indices = np.arange(len(df_k))\n",
    "width = 0.35\n",
    "\n",
    "plt.figure(figsize=(12, 5))\n",
    "\n",
    "# 2. Scatter plot: Order Cost vs Order Duration\n",
    "plt.scatter(df_k['order_duration'], df_k['order_price'], color='green')\n",
    "for i, txt in enumerate(df_k['article_id']):\n",
    "    plt.annotate(txt, (df_k['order_duration'].iloc[i], df_k['order_price'].iloc[i]))\n",
    "plt.xlabel('Order Duration')\n",
    "plt.ylabel('Order Price')\n",
    "plt.title('Order Cost vs Order Duration')\n",
    "plt.show()\n",
    "\n",
    "plt.figure(figsize=(12, 5))\n",
    "\n",
    "# 4. Adjusted Safety Stock (including order duration)\n",
    "plt.bar(indices, df_k['adjusted_safety_stock_sqrt'], color='purple')\n",
    "plt.xlabel('Article ID')\n",
    "plt.ylabel('Adjusted Safety Stock')\n",
    "plt.title('Adjusted Safety Stock (Safety Factor * Order Duration)')\n",
    "plt.xticks(indices)\n",
    "plt.tight_layout()\n",
    "plt.show()\n"
   ],
   "id": "e74aa4e4e4a3813b",
   "outputs": [],
   "execution_count": null
  },
  {
   "metadata": {},
   "cell_type": "markdown",
   "source": [
    "Durchnittlische Belastung pro Arbeitsplatz also wie eng dort die Kapazitäten prinzipiell sind.\n",
    "kritischer Pfad, längster Pfad. Bei den Eigenerzeugnissen weniger auf Lager halten von Teilen die schneller produziert werden können.\n",
    "\n",
    "\n"
   ],
   "id": "cf0999a5f404542"
  },
  {
   "metadata": {},
   "cell_type": "code",
   "source": "",
   "id": "c1cf02c48cabfdd0",
   "outputs": [],
   "execution_count": null
  }
 ],
 "metadata": {
  "kernelspec": {
   "display_name": "Python 3",
   "language": "python",
   "name": "python3"
  },
  "language_info": {
   "codemirror_mode": {
    "name": "ipython",
    "version": 2
   },
   "file_extension": ".py",
   "mimetype": "text/x-python",
   "name": "python",
   "nbconvert_exporter": "python",
   "pygments_lexer": "ipython2",
   "version": "2.7.6"
  }
 },
 "nbformat": 4,
 "nbformat_minor": 5
}
